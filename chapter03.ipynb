{
 "cells": [
  {
   "cell_type": "markdown",
   "metadata": {},
   "source": [
    "# Chapter 3: Data Structures"
   ]
  },
  {
   "cell_type": "markdown",
   "metadata": {},
   "source": [
    "### Question 1: If you had a spreadsheet with data, which pandas data structure would you use to hold the data? Why?\n",
    "\n",
    "A dataframe would be the best analogy"
   ]
  },
  {
   "cell_type": "markdown",
   "metadata": {},
   "source": [
    "### Question 2: If you had a database with data, which pandas data structure would you use to hold the data? Why?\n",
    "\n",
    "Again, it would be dataframes, but it would be several potentially. One for each table. This is because the structure of a database with one or more tables corresponds best to one or more DataFrames"
   ]
  },
  {
   "cell_type": "code",
   "execution_count": null,
   "metadata": {},
   "outputs": [],
   "source": []
  }
 ],
 "metadata": {
  "language_info": {
   "name": "python"
  },
  "orig_nbformat": 4
 },
 "nbformat": 4,
 "nbformat_minor": 2
}
