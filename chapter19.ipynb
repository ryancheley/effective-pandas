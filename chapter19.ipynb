{
 "cells": [
  {
   "cell_type": "code",
   "execution_count": 1,
   "metadata": {},
   "outputs": [],
   "source": [
    "import pandas as pd"
   ]
  },
  {
   "cell_type": "markdown",
   "metadata": {},
   "source": [
    "### Question 1: Loop over each of the rows and calculate the maximum and minimum value."
   ]
  },
  {
   "cell_type": "code",
   "execution_count": 2,
   "metadata": {},
   "outputs": [],
   "source": [
    "df = pd.read_csv('attendance.csv')"
   ]
  },
  {
   "cell_type": "code",
   "execution_count": 3,
   "metadata": {},
   "outputs": [
    {
     "name": "stdout",
     "output_type": "stream",
     "text": [
      "The maximum value for Date is 2021-10-03\n",
      "The minimum value for Date is 2021-04-01\n",
      "The maximum value for Away is Washington Nationals\n",
      "The minimum value for Away is Arizona Diamondbacks\n",
      "The maximum value for Home is Washington Nationals\n",
      "The minimum value for Home is Arizona Diamondbacks\n",
      "The maximum value for Attendance is 53114\n",
      "The minimum value for Attendance is 1107\n",
      "The maximum value for Type is R\n",
      "The minimum value for Type is R\n"
     ]
    }
   ],
   "source": [
    "for col_name, col in df.iteritems():\n",
    "    message_max = f\"The maximum value for {col_name} is {df[col_name].max()}\"\n",
    "    print(message_max)\n",
    "    message_min = f\"The minimum value for {col_name} is {df[col_name].min()}\"\n",
    "    print(message_min)\n"
   ]
  },
  {
   "cell_type": "markdown",
   "metadata": {},
   "source": [
    "### Question 2: Calculate the maximum and minimum value of each row and column using the.aggmethod"
   ]
  },
  {
   "cell_type": "code",
   "execution_count": 4,
   "metadata": {},
   "outputs": [
    {
     "data": {
      "text/html": [
       "<div>\n",
       "<style scoped>\n",
       "    .dataframe tbody tr th:only-of-type {\n",
       "        vertical-align: middle;\n",
       "    }\n",
       "\n",
       "    .dataframe tbody tr th {\n",
       "        vertical-align: top;\n",
       "    }\n",
       "\n",
       "    .dataframe thead th {\n",
       "        text-align: right;\n",
       "    }\n",
       "</style>\n",
       "<table border=\"1\" class=\"dataframe\">\n",
       "  <thead>\n",
       "    <tr style=\"text-align: right;\">\n",
       "      <th></th>\n",
       "      <th>Date</th>\n",
       "      <th>Away</th>\n",
       "      <th>Home</th>\n",
       "      <th>Attendance</th>\n",
       "      <th>Type</th>\n",
       "    </tr>\n",
       "  </thead>\n",
       "  <tbody>\n",
       "    <tr>\n",
       "      <th>min</th>\n",
       "      <td>2021-04-01</td>\n",
       "      <td>Arizona Diamondbacks</td>\n",
       "      <td>Arizona Diamondbacks</td>\n",
       "      <td>1107</td>\n",
       "      <td>R</td>\n",
       "    </tr>\n",
       "    <tr>\n",
       "      <th>max</th>\n",
       "      <td>2021-10-03</td>\n",
       "      <td>Washington Nationals</td>\n",
       "      <td>Washington Nationals</td>\n",
       "      <td>53114</td>\n",
       "      <td>R</td>\n",
       "    </tr>\n",
       "  </tbody>\n",
       "</table>\n",
       "</div>"
      ],
      "text/plain": [
       "           Date                  Away                  Home  Attendance Type\n",
       "min  2021-04-01  Arizona Diamondbacks  Arizona Diamondbacks        1107    R\n",
       "max  2021-10-03  Washington Nationals  Washington Nationals       53114    R"
      ]
     },
     "execution_count": 4,
     "metadata": {},
     "output_type": "execute_result"
    }
   ],
   "source": [
    "df.agg(['min', 'max'])"
   ]
  },
  {
   "cell_type": "code",
   "execution_count": 5,
   "metadata": {},
   "outputs": [
    {
     "data": {
      "text/html": [
       "<div>\n",
       "<style scoped>\n",
       "    .dataframe tbody tr th:only-of-type {\n",
       "        vertical-align: middle;\n",
       "    }\n",
       "\n",
       "    .dataframe tbody tr th {\n",
       "        vertical-align: top;\n",
       "    }\n",
       "\n",
       "    .dataframe thead th {\n",
       "        text-align: right;\n",
       "    }\n",
       "</style>\n",
       "<table border=\"1\" class=\"dataframe\">\n",
       "  <thead>\n",
       "    <tr style=\"text-align: right;\">\n",
       "      <th></th>\n",
       "      <th>Date</th>\n",
       "      <th>Away</th>\n",
       "      <th>Home</th>\n",
       "      <th>Attendance</th>\n",
       "      <th>Type</th>\n",
       "    </tr>\n",
       "  </thead>\n",
       "  <tbody>\n",
       "    <tr>\n",
       "      <th>min</th>\n",
       "      <td>2021-04-01</td>\n",
       "      <td>Arizona Diamondbacks</td>\n",
       "      <td>Arizona Diamondbacks</td>\n",
       "      <td>1107</td>\n",
       "      <td>R</td>\n",
       "    </tr>\n",
       "    <tr>\n",
       "      <th>max</th>\n",
       "      <td>2021-10-03</td>\n",
       "      <td>Washington Nationals</td>\n",
       "      <td>Washington Nationals</td>\n",
       "      <td>53114</td>\n",
       "      <td>R</td>\n",
       "    </tr>\n",
       "  </tbody>\n",
       "</table>\n",
       "</div>"
      ],
      "text/plain": [
       "           Date                  Away                  Home  Attendance Type\n",
       "min  2021-04-01  Arizona Diamondbacks  Arizona Diamondbacks        1107    R\n",
       "max  2021-10-03  Washington Nationals  Washington Nationals       53114    R"
      ]
     },
     "execution_count": 5,
     "metadata": {},
     "output_type": "execute_result"
    }
   ],
   "source": [
    "df.agg([min, max])"
   ]
  },
  {
   "cell_type": "markdown",
   "metadata": {},
   "source": [
    "### Question 3: Calculate the maximum and minimum value of each row and column using the .apply method."
   ]
  },
  {
   "cell_type": "code",
   "execution_count": 6,
   "metadata": {},
   "outputs": [
    {
     "data": {
      "text/html": [
       "<div>\n",
       "<style scoped>\n",
       "    .dataframe tbody tr th:only-of-type {\n",
       "        vertical-align: middle;\n",
       "    }\n",
       "\n",
       "    .dataframe tbody tr th {\n",
       "        vertical-align: top;\n",
       "    }\n",
       "\n",
       "    .dataframe thead th {\n",
       "        text-align: right;\n",
       "    }\n",
       "</style>\n",
       "<table border=\"1\" class=\"dataframe\">\n",
       "  <thead>\n",
       "    <tr style=\"text-align: right;\">\n",
       "      <th></th>\n",
       "      <th>Date</th>\n",
       "      <th>Away</th>\n",
       "      <th>Home</th>\n",
       "      <th>Attendance</th>\n",
       "      <th>Type</th>\n",
       "    </tr>\n",
       "  </thead>\n",
       "  <tbody>\n",
       "    <tr>\n",
       "      <th>max</th>\n",
       "      <td>2021-10-03</td>\n",
       "      <td>Washington Nationals</td>\n",
       "      <td>Washington Nationals</td>\n",
       "      <td>53114</td>\n",
       "      <td>R</td>\n",
       "    </tr>\n",
       "    <tr>\n",
       "      <th>min</th>\n",
       "      <td>2021-04-01</td>\n",
       "      <td>Arizona Diamondbacks</td>\n",
       "      <td>Arizona Diamondbacks</td>\n",
       "      <td>1107</td>\n",
       "      <td>R</td>\n",
       "    </tr>\n",
       "  </tbody>\n",
       "</table>\n",
       "</div>"
      ],
      "text/plain": [
       "           Date                  Away                  Home  Attendance Type\n",
       "max  2021-10-03  Washington Nationals  Washington Nationals       53114    R\n",
       "min  2021-04-01  Arizona Diamondbacks  Arizona Diamondbacks        1107    R"
      ]
     },
     "execution_count": 6,
     "metadata": {},
     "output_type": "execute_result"
    }
   ],
   "source": [
    "df.apply(['max', 'min'])"
   ]
  },
  {
   "cell_type": "code",
   "execution_count": 7,
   "metadata": {},
   "outputs": [
    {
     "data": {
      "text/html": [
       "<div>\n",
       "<style scoped>\n",
       "    .dataframe tbody tr th:only-of-type {\n",
       "        vertical-align: middle;\n",
       "    }\n",
       "\n",
       "    .dataframe tbody tr th {\n",
       "        vertical-align: top;\n",
       "    }\n",
       "\n",
       "    .dataframe thead th {\n",
       "        text-align: right;\n",
       "    }\n",
       "</style>\n",
       "<table border=\"1\" class=\"dataframe\">\n",
       "  <thead>\n",
       "    <tr style=\"text-align: right;\">\n",
       "      <th></th>\n",
       "      <th>Date</th>\n",
       "      <th>Away</th>\n",
       "      <th>Home</th>\n",
       "      <th>Attendance</th>\n",
       "      <th>Type</th>\n",
       "    </tr>\n",
       "  </thead>\n",
       "  <tbody>\n",
       "    <tr>\n",
       "      <th>max</th>\n",
       "      <td>2021-10-03</td>\n",
       "      <td>Washington Nationals</td>\n",
       "      <td>Washington Nationals</td>\n",
       "      <td>53114</td>\n",
       "      <td>R</td>\n",
       "    </tr>\n",
       "    <tr>\n",
       "      <th>min</th>\n",
       "      <td>2021-04-01</td>\n",
       "      <td>Arizona Diamondbacks</td>\n",
       "      <td>Arizona Diamondbacks</td>\n",
       "      <td>1107</td>\n",
       "      <td>R</td>\n",
       "    </tr>\n",
       "  </tbody>\n",
       "</table>\n",
       "</div>"
      ],
      "text/plain": [
       "           Date                  Away                  Home  Attendance Type\n",
       "max  2021-10-03  Washington Nationals  Washington Nationals       53114    R\n",
       "min  2021-04-01  Arizona Diamondbacks  Arizona Diamondbacks        1107    R"
      ]
     },
     "execution_count": 7,
     "metadata": {},
     "output_type": "execute_result"
    }
   ],
   "source": [
    "df.apply([max, min])"
   ]
  },
  {
   "cell_type": "code",
   "execution_count": null,
   "metadata": {},
   "outputs": [],
   "source": []
  }
 ],
 "metadata": {
  "kernelspec": {
   "display_name": "Python 3 (ipykernel)",
   "language": "python",
   "name": "python3"
  },
  "language_info": {
   "codemirror_mode": {
    "name": "ipython",
    "version": 3
   },
   "file_extension": ".py",
   "mimetype": "text/x-python",
   "name": "python",
   "nbconvert_exporter": "python",
   "pygments_lexer": "ipython3",
   "version": "3.10.2"
  },
  "vscode": {
   "interpreter": {
    "hash": "fe588243ce836f77cba0987af39759560e0cbefeac38e74e1c0a99f3d49b66e2"
   }
  }
 },
 "nbformat": 4,
 "nbformat_minor": 2
}
