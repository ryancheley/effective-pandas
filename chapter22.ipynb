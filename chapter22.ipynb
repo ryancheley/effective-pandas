{
 "cells": [
  {
   "cell_type": "code",
   "execution_count": 1,
   "metadata": {},
   "outputs": [],
   "source": [
    "import pandas as pd"
   ]
  },
  {
   "cell_type": "code",
   "execution_count": 2,
   "metadata": {},
   "outputs": [],
   "source": [
    "df = pd.read_csv('vehicles.csv', low_memory=False)"
   ]
  },
  {
   "cell_type": "markdown",
   "metadata": {},
   "source": [
    "### Question 1: Find out which columns have missing data."
   ]
  },
  {
   "cell_type": "code",
   "execution_count": 3,
   "metadata": {},
   "outputs": [
    {
     "data": {
      "text/plain": [
       "Index(['cylinders', 'displ', 'drive', 'eng_dscr', 'trany', 'guzzler',\n",
       "       'trans_dscr', 'tCharger', 'sCharger', 'atvType', 'fuelType2', 'rangeA',\n",
       "       'evMotor', 'mfrCode', 'c240Dscr', 'c240bDscr', 'startStop'],\n",
       "      dtype='object')"
      ]
     },
     "execution_count": 3,
     "metadata": {},
     "output_type": "execute_result"
    }
   ],
   "source": [
    "df\n",
    ".isna()\n",
    ".sum()[\n",
    "    df\n",
    "    .isna()\n",
    "    .sum() != 0]\n",
    ".index"
   ]
  },
  {
   "cell_type": "markdown",
   "metadata": {},
   "source": [
    "### Question 2: Count the number of missing values for each column."
   ]
  },
  {
   "cell_type": "code",
   "execution_count": 4,
   "metadata": {},
   "outputs": [
    {
     "data": {
      "text/plain": [
       "cylinders       206\n",
       "displ           204\n",
       "drive          1189\n",
       "eng_dscr      16153\n",
       "trany            11\n",
       "guzzler       38721\n",
       "trans_dscr    26097\n",
       "tCharger      34272\n",
       "sCharger      40304\n",
       "atvType       37584\n",
       "fuelType2     39538\n",
       "rangeA        39543\n",
       "evMotor       40292\n",
       "mfrCode       30818\n",
       "c240Dscr      41063\n",
       "c240bDscr     41065\n",
       "startStop     31704\n",
       "dtype: int64"
      ]
     },
     "execution_count": 4,
     "metadata": {},
     "output_type": "execute_result"
    }
   ],
   "source": [
    "df.isna().sum()[df.isna().sum() != 0]"
   ]
  },
  {
   "cell_type": "markdown",
   "metadata": {},
   "source": [
    "### Question 3: Find the percentage of missing values for each column."
   ]
  },
  {
   "cell_type": "code",
   "execution_count": 5,
   "metadata": {},
   "outputs": [
    {
     "data": {
      "text/plain": [
       "cylinders      0.500681\n",
       "displ          0.495820\n",
       "drive          2.889850\n",
       "eng_dscr      39.259673\n",
       "trany          0.026735\n",
       "guzzler       94.110927\n",
       "trans_dscr    63.428446\n",
       "tCharger      83.297686\n",
       "sCharger      97.958390\n",
       "atvType       91.347463\n",
       "fuelType2     96.096636\n",
       "rangeA        96.108789\n",
       "evMotor       97.929224\n",
       "mfrCode       74.902780\n",
       "c240Dscr      99.803130\n",
       "c240bDscr     99.807991\n",
       "startStop     77.056193\n",
       "dtype: float64"
      ]
     },
     "execution_count": 5,
     "metadata": {},
     "output_type": "execute_result"
    }
   ],
   "source": [
    "(df.isna().sum()[df.isna().sum() != 0] / df.isna().count()[df.isna().sum() != 0]).mul(100)"
   ]
  },
  {
   "cell_type": "markdown",
   "metadata": {},
   "source": [
    "### Question 4: Find the rows with missing data."
   ]
  },
  {
   "cell_type": "code",
   "execution_count": 6,
   "metadata": {},
   "outputs": [
    {
     "data": {
      "text/html": [
       "<div>\n",
       "<style scoped>\n",
       "    .dataframe tbody tr th:only-of-type {\n",
       "        vertical-align: middle;\n",
       "    }\n",
       "\n",
       "    .dataframe tbody tr th {\n",
       "        vertical-align: top;\n",
       "    }\n",
       "\n",
       "    .dataframe thead th {\n",
       "        text-align: right;\n",
       "    }\n",
       "</style>\n",
       "<table border=\"1\" class=\"dataframe\">\n",
       "  <thead>\n",
       "    <tr style=\"text-align: right;\">\n",
       "      <th></th>\n",
       "      <th>barrels08</th>\n",
       "      <th>barrelsA08</th>\n",
       "      <th>charge120</th>\n",
       "      <th>charge240</th>\n",
       "      <th>city08</th>\n",
       "      <th>city08U</th>\n",
       "      <th>cityA08</th>\n",
       "      <th>cityA08U</th>\n",
       "      <th>cityCD</th>\n",
       "      <th>cityE</th>\n",
       "      <th>...</th>\n",
       "      <th>mfrCode</th>\n",
       "      <th>c240Dscr</th>\n",
       "      <th>charge240b</th>\n",
       "      <th>c240bDscr</th>\n",
       "      <th>createdOn</th>\n",
       "      <th>modifiedOn</th>\n",
       "      <th>startStop</th>\n",
       "      <th>phevCity</th>\n",
       "      <th>phevHwy</th>\n",
       "      <th>phevComb</th>\n",
       "    </tr>\n",
       "  </thead>\n",
       "  <tbody>\n",
       "    <tr>\n",
       "      <th>7138</th>\n",
       "      <td>0.240</td>\n",
       "      <td>0.0</td>\n",
       "      <td>0.0</td>\n",
       "      <td>0.0</td>\n",
       "      <td>81</td>\n",
       "      <td>0.0000</td>\n",
       "      <td>0</td>\n",
       "      <td>0.0</td>\n",
       "      <td>0.0</td>\n",
       "      <td>41.0000</td>\n",
       "      <td>...</td>\n",
       "      <td>NaN</td>\n",
       "      <td>NaN</td>\n",
       "      <td>0.0</td>\n",
       "      <td>NaN</td>\n",
       "      <td>Tue Jan 01 00:00:00 EST 2013</td>\n",
       "      <td>Thu Jul 07 00:00:00 EDT 2016</td>\n",
       "      <td>N</td>\n",
       "      <td>0</td>\n",
       "      <td>0</td>\n",
       "      <td>0</td>\n",
       "    </tr>\n",
       "    <tr>\n",
       "      <th>7139</th>\n",
       "      <td>0.282</td>\n",
       "      <td>0.0</td>\n",
       "      <td>0.0</td>\n",
       "      <td>0.0</td>\n",
       "      <td>81</td>\n",
       "      <td>0.0000</td>\n",
       "      <td>0</td>\n",
       "      <td>0.0</td>\n",
       "      <td>0.0</td>\n",
       "      <td>41.0000</td>\n",
       "      <td>...</td>\n",
       "      <td>NaN</td>\n",
       "      <td>NaN</td>\n",
       "      <td>0.0</td>\n",
       "      <td>NaN</td>\n",
       "      <td>Tue Jan 01 00:00:00 EST 2013</td>\n",
       "      <td>Thu Jul 07 00:00:00 EDT 2016</td>\n",
       "      <td>N</td>\n",
       "      <td>0</td>\n",
       "      <td>0</td>\n",
       "      <td>0</td>\n",
       "    </tr>\n",
       "    <tr>\n",
       "      <th>8143</th>\n",
       "      <td>0.282</td>\n",
       "      <td>0.0</td>\n",
       "      <td>0.0</td>\n",
       "      <td>0.0</td>\n",
       "      <td>81</td>\n",
       "      <td>0.0000</td>\n",
       "      <td>0</td>\n",
       "      <td>0.0</td>\n",
       "      <td>0.0</td>\n",
       "      <td>41.0000</td>\n",
       "      <td>...</td>\n",
       "      <td>NaN</td>\n",
       "      <td>NaN</td>\n",
       "      <td>0.0</td>\n",
       "      <td>NaN</td>\n",
       "      <td>Tue Jan 01 00:00:00 EST 2013</td>\n",
       "      <td>Thu Jul 07 00:00:00 EDT 2016</td>\n",
       "      <td>N</td>\n",
       "      <td>0</td>\n",
       "      <td>0</td>\n",
       "      <td>0</td>\n",
       "    </tr>\n",
       "    <tr>\n",
       "      <th>8144</th>\n",
       "      <td>0.312</td>\n",
       "      <td>0.0</td>\n",
       "      <td>0.0</td>\n",
       "      <td>0.0</td>\n",
       "      <td>74</td>\n",
       "      <td>0.0000</td>\n",
       "      <td>0</td>\n",
       "      <td>0.0</td>\n",
       "      <td>0.0</td>\n",
       "      <td>46.0000</td>\n",
       "      <td>...</td>\n",
       "      <td>NaN</td>\n",
       "      <td>NaN</td>\n",
       "      <td>0.0</td>\n",
       "      <td>NaN</td>\n",
       "      <td>Tue Jan 01 00:00:00 EST 2013</td>\n",
       "      <td>Thu Jul 07 00:00:00 EDT 2016</td>\n",
       "      <td>N</td>\n",
       "      <td>0</td>\n",
       "      <td>0</td>\n",
       "      <td>0</td>\n",
       "    </tr>\n",
       "    <tr>\n",
       "      <th>8146</th>\n",
       "      <td>0.522</td>\n",
       "      <td>0.0</td>\n",
       "      <td>0.0</td>\n",
       "      <td>0.0</td>\n",
       "      <td>45</td>\n",
       "      <td>0.0000</td>\n",
       "      <td>0</td>\n",
       "      <td>0.0</td>\n",
       "      <td>0.0</td>\n",
       "      <td>75.0000</td>\n",
       "      <td>...</td>\n",
       "      <td>NaN</td>\n",
       "      <td>NaN</td>\n",
       "      <td>0.0</td>\n",
       "      <td>NaN</td>\n",
       "      <td>Tue Jan 01 00:00:00 EST 2013</td>\n",
       "      <td>Thu Jul 07 00:00:00 EDT 2016</td>\n",
       "      <td>N</td>\n",
       "      <td>0</td>\n",
       "      <td>0</td>\n",
       "      <td>0</td>\n",
       "    </tr>\n",
       "    <tr>\n",
       "      <th>...</th>\n",
       "      <td>...</td>\n",
       "      <td>...</td>\n",
       "      <td>...</td>\n",
       "      <td>...</td>\n",
       "      <td>...</td>\n",
       "      <td>...</td>\n",
       "      <td>...</td>\n",
       "      <td>...</td>\n",
       "      <td>...</td>\n",
       "      <td>...</td>\n",
       "      <td>...</td>\n",
       "      <td>...</td>\n",
       "      <td>...</td>\n",
       "      <td>...</td>\n",
       "      <td>...</td>\n",
       "      <td>...</td>\n",
       "      <td>...</td>\n",
       "      <td>...</td>\n",
       "      <td>...</td>\n",
       "      <td>...</td>\n",
       "      <td>...</td>\n",
       "    </tr>\n",
       "    <tr>\n",
       "      <th>34563</th>\n",
       "      <td>0.156</td>\n",
       "      <td>0.0</td>\n",
       "      <td>0.0</td>\n",
       "      <td>8.5</td>\n",
       "      <td>138</td>\n",
       "      <td>138.1100</td>\n",
       "      <td>0</td>\n",
       "      <td>0.0</td>\n",
       "      <td>0.0</td>\n",
       "      <td>24.4045</td>\n",
       "      <td>...</td>\n",
       "      <td>TSL</td>\n",
       "      <td>standard charger</td>\n",
       "      <td>0.0</td>\n",
       "      <td>80 amp dual charger</td>\n",
       "      <td>Thu May 02 00:00:00 EDT 2019</td>\n",
       "      <td>Thu May 02 00:00:00 EDT 2019</td>\n",
       "      <td>N</td>\n",
       "      <td>0</td>\n",
       "      <td>0</td>\n",
       "      <td>0</td>\n",
       "    </tr>\n",
       "    <tr>\n",
       "      <th>34564</th>\n",
       "      <td>0.150</td>\n",
       "      <td>0.0</td>\n",
       "      <td>0.0</td>\n",
       "      <td>9.5</td>\n",
       "      <td>140</td>\n",
       "      <td>140.4200</td>\n",
       "      <td>0</td>\n",
       "      <td>0.0</td>\n",
       "      <td>0.0</td>\n",
       "      <td>24.0030</td>\n",
       "      <td>...</td>\n",
       "      <td>TSL</td>\n",
       "      <td>standard charger</td>\n",
       "      <td>0.0</td>\n",
       "      <td>80 amp dual charger</td>\n",
       "      <td>Thu May 02 00:00:00 EDT 2019</td>\n",
       "      <td>Tue Jun 04 00:00:00 EDT 2019</td>\n",
       "      <td>N</td>\n",
       "      <td>0</td>\n",
       "      <td>0</td>\n",
       "      <td>0</td>\n",
       "    </tr>\n",
       "    <tr>\n",
       "      <th>34565</th>\n",
       "      <td>0.180</td>\n",
       "      <td>0.0</td>\n",
       "      <td>0.0</td>\n",
       "      <td>12.0</td>\n",
       "      <td>115</td>\n",
       "      <td>114.9369</td>\n",
       "      <td>0</td>\n",
       "      <td>0.0</td>\n",
       "      <td>0.0</td>\n",
       "      <td>29.3248</td>\n",
       "      <td>...</td>\n",
       "      <td>TSL</td>\n",
       "      <td>standard charger</td>\n",
       "      <td>8.0</td>\n",
       "      <td>72 amp dual charger</td>\n",
       "      <td>Thu May 02 00:00:00 EDT 2019</td>\n",
       "      <td>Tue Jun 04 00:00:00 EDT 2019</td>\n",
       "      <td>N</td>\n",
       "      <td>0</td>\n",
       "      <td>0</td>\n",
       "      <td>0</td>\n",
       "    </tr>\n",
       "    <tr>\n",
       "      <th>34566</th>\n",
       "      <td>0.192</td>\n",
       "      <td>0.0</td>\n",
       "      <td>0.0</td>\n",
       "      <td>12.0</td>\n",
       "      <td>104</td>\n",
       "      <td>104.2314</td>\n",
       "      <td>0</td>\n",
       "      <td>0.0</td>\n",
       "      <td>0.0</td>\n",
       "      <td>32.3367</td>\n",
       "      <td>...</td>\n",
       "      <td>TSL</td>\n",
       "      <td>standard charger</td>\n",
       "      <td>8.0</td>\n",
       "      <td>72 amp dual charger</td>\n",
       "      <td>Thu May 02 00:00:00 EDT 2019</td>\n",
       "      <td>Tue Jun 04 00:00:00 EDT 2019</td>\n",
       "      <td>N</td>\n",
       "      <td>0</td>\n",
       "      <td>0</td>\n",
       "      <td>0</td>\n",
       "    </tr>\n",
       "    <tr>\n",
       "      <th>34567</th>\n",
       "      <td>0.210</td>\n",
       "      <td>0.0</td>\n",
       "      <td>0.0</td>\n",
       "      <td>12.0</td>\n",
       "      <td>98</td>\n",
       "      <td>98.1135</td>\n",
       "      <td>0</td>\n",
       "      <td>0.0</td>\n",
       "      <td>0.0</td>\n",
       "      <td>34.3531</td>\n",
       "      <td>...</td>\n",
       "      <td>TSL</td>\n",
       "      <td>standard charger</td>\n",
       "      <td>8.0</td>\n",
       "      <td>72 amp dual charger</td>\n",
       "      <td>Thu May 02 00:00:00 EDT 2019</td>\n",
       "      <td>Tue Jun 04 00:00:00 EDT 2019</td>\n",
       "      <td>N</td>\n",
       "      <td>0</td>\n",
       "      <td>0</td>\n",
       "      <td>0</td>\n",
       "    </tr>\n",
       "  </tbody>\n",
       "</table>\n",
       "<p>204 rows × 83 columns</p>\n",
       "</div>"
      ],
      "text/plain": [
       "       barrels08  barrelsA08  charge120  charge240  city08   city08U  cityA08  \\\n",
       "7138       0.240         0.0        0.0        0.0      81    0.0000        0   \n",
       "7139       0.282         0.0        0.0        0.0      81    0.0000        0   \n",
       "8143       0.282         0.0        0.0        0.0      81    0.0000        0   \n",
       "8144       0.312         0.0        0.0        0.0      74    0.0000        0   \n",
       "8146       0.522         0.0        0.0        0.0      45    0.0000        0   \n",
       "...          ...         ...        ...        ...     ...       ...      ...   \n",
       "34563      0.156         0.0        0.0        8.5     138  138.1100        0   \n",
       "34564      0.150         0.0        0.0        9.5     140  140.4200        0   \n",
       "34565      0.180         0.0        0.0       12.0     115  114.9369        0   \n",
       "34566      0.192         0.0        0.0       12.0     104  104.2314        0   \n",
       "34567      0.210         0.0        0.0       12.0      98   98.1135        0   \n",
       "\n",
       "       cityA08U  cityCD    cityE  ...  mfrCode          c240Dscr  charge240b  \\\n",
       "7138        0.0     0.0  41.0000  ...      NaN               NaN         0.0   \n",
       "7139        0.0     0.0  41.0000  ...      NaN               NaN         0.0   \n",
       "8143        0.0     0.0  41.0000  ...      NaN               NaN         0.0   \n",
       "8144        0.0     0.0  46.0000  ...      NaN               NaN         0.0   \n",
       "8146        0.0     0.0  75.0000  ...      NaN               NaN         0.0   \n",
       "...         ...     ...      ...  ...      ...               ...         ...   \n",
       "34563       0.0     0.0  24.4045  ...      TSL  standard charger         0.0   \n",
       "34564       0.0     0.0  24.0030  ...      TSL  standard charger         0.0   \n",
       "34565       0.0     0.0  29.3248  ...      TSL  standard charger         8.0   \n",
       "34566       0.0     0.0  32.3367  ...      TSL  standard charger         8.0   \n",
       "34567       0.0     0.0  34.3531  ...      TSL  standard charger         8.0   \n",
       "\n",
       "                 c240bDscr                     createdOn  \\\n",
       "7138                   NaN  Tue Jan 01 00:00:00 EST 2013   \n",
       "7139                   NaN  Tue Jan 01 00:00:00 EST 2013   \n",
       "8143                   NaN  Tue Jan 01 00:00:00 EST 2013   \n",
       "8144                   NaN  Tue Jan 01 00:00:00 EST 2013   \n",
       "8146                   NaN  Tue Jan 01 00:00:00 EST 2013   \n",
       "...                    ...                           ...   \n",
       "34563  80 amp dual charger  Thu May 02 00:00:00 EDT 2019   \n",
       "34564  80 amp dual charger  Thu May 02 00:00:00 EDT 2019   \n",
       "34565  72 amp dual charger  Thu May 02 00:00:00 EDT 2019   \n",
       "34566  72 amp dual charger  Thu May 02 00:00:00 EDT 2019   \n",
       "34567  72 amp dual charger  Thu May 02 00:00:00 EDT 2019   \n",
       "\n",
       "                         modifiedOn  startStop  phevCity  phevHwy  phevComb  \n",
       "7138   Thu Jul 07 00:00:00 EDT 2016          N         0        0         0  \n",
       "7139   Thu Jul 07 00:00:00 EDT 2016          N         0        0         0  \n",
       "8143   Thu Jul 07 00:00:00 EDT 2016          N         0        0         0  \n",
       "8144   Thu Jul 07 00:00:00 EDT 2016          N         0        0         0  \n",
       "8146   Thu Jul 07 00:00:00 EDT 2016          N         0        0         0  \n",
       "...                             ...        ...       ...      ...       ...  \n",
       "34563  Thu May 02 00:00:00 EDT 2019          N         0        0         0  \n",
       "34564  Tue Jun 04 00:00:00 EDT 2019          N         0        0         0  \n",
       "34565  Tue Jun 04 00:00:00 EDT 2019          N         0        0         0  \n",
       "34566  Tue Jun 04 00:00:00 EDT 2019          N         0        0         0  \n",
       "34567  Tue Jun 04 00:00:00 EDT 2019          N         0        0         0  \n",
       "\n",
       "[204 rows x 83 columns]"
      ]
     },
     "execution_count": 6,
     "metadata": {},
     "output_type": "execute_result"
    }
   ],
   "source": [
    "df[df.displ.isna()]"
   ]
  },
  {
   "cell_type": "markdown",
   "metadata": {},
   "source": [
    "### Question 5: Find the rows that are duplicated."
   ]
  },
  {
   "cell_type": "code",
   "execution_count": 7,
   "metadata": {},
   "outputs": [
    {
     "data": {
      "text/plain": [
       "(41144, 83)"
      ]
     },
     "execution_count": 7,
     "metadata": {},
     "output_type": "execute_result"
    }
   ],
   "source": [
    "df.drop_duplicates().shape"
   ]
  },
  {
   "cell_type": "code",
   "execution_count": 8,
   "metadata": {},
   "outputs": [
    {
     "data": {
      "text/plain": [
       "(41144, 83)"
      ]
     },
     "execution_count": 8,
     "metadata": {},
     "output_type": "execute_result"
    }
   ],
   "source": [
    "df.shape"
   ]
  },
  {
   "cell_type": "markdown",
   "metadata": {},
   "source": [
    "Since the shape of each dataframe is the same we see that there are no duplicates"
   ]
  },
  {
   "cell_type": "code",
   "execution_count": null,
   "metadata": {},
   "outputs": [],
   "source": []
  }
 ],
 "metadata": {
  "kernelspec": {
   "display_name": "Python 3 (ipykernel)",
   "language": "python",
   "name": "python3"
  },
  "language_info": {
   "codemirror_mode": {
    "name": "ipython",
    "version": 3
   },
   "file_extension": ".py",
   "mimetype": "text/x-python",
   "name": "python",
   "nbconvert_exporter": "python",
   "pygments_lexer": "ipython3",
   "version": "3.10.2"
  },
  "vscode": {
   "interpreter": {
    "hash": "fe588243ce836f77cba0987af39759560e0cbefeac38e74e1c0a99f3d49b66e2"
   }
  }
 },
 "nbformat": 4,
 "nbformat_minor": 2
}
