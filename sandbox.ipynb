{
 "cells": [
  {
   "cell_type": "markdown",
   "metadata": {},
   "source": [
    "## Import needed libraries"
   ]
  },
  {
   "cell_type": "code",
   "execution_count": 206,
   "metadata": {},
   "outputs": [],
   "source": [
    "import requests\n",
    "import csv\n",
    "from datetime import timedelta, datetime\n",
    "import pandas as pd\n",
    "from scipy.stats import ttest_ind"
   ]
  },
  {
   "cell_type": "markdown",
   "metadata": {},
   "source": [
    "## Set up some initial values"
   ]
  },
  {
   "cell_type": "code",
   "execution_count": 248,
   "metadata": {},
   "outputs": [],
   "source": [
    "season = 2021\n",
    "if season == 2021:\n",
    "    start = datetime.strptime(\"2021-4-01\", \"%Y-%m-%d\")\n",
    "    end = datetime.strptime(\"2021-10-03\", \"%Y-%m-%d\")\n",
    "elif season == 2022:\n",
    "    start = datetime.strptime(\"2022-04-07\", \"%Y-%m-%d\")\n",
    "    end = datetime.today()\n",
    "date_generated = [start + timedelta(days=x) for x in range(0, (end-start).days + 1)]\n",
    "date_generated = [x.strftime('%Y-%m-%d') for x in date_generated]"
   ]
  },
  {
   "cell_type": "markdown",
   "metadata": {},
   "source": [
    "## Initialize the CSV File"
   ]
  },
  {
   "cell_type": "code",
   "execution_count": null,
   "metadata": {},
   "outputs": [],
   "source": [
    "with open('attendance.csv', 'w') as csvfile:\n",
    "    attendance_writer = csv.writer(csvfile)\n",
    "    attendance_writer.writerow(['Date', 'Away', 'Home', 'Attendance', 'Type'])\n"
   ]
  },
  {
   "cell_type": "markdown",
   "metadata": {},
   "source": [
    "## Get the data from the MLB API"
   ]
  },
  {
   "cell_type": "code",
   "execution_count": 249,
   "metadata": {},
   "outputs": [
    {
     "name": "stdout",
     "output_type": "stream",
     "text": [
      "2021-10-03 attendance complete\n"
     ]
    }
   ],
   "source": [
    "for the_game_date in date_generated:\n",
    "    url = f'http://statsapi.mlb.com/api/v1/attendance?leagueId=103,104&date={the_game_date}'\n",
    "    r = requests.get(url).json()\n",
    "    for i in r.get('records'):\n",
    "        try:\n",
    "            gamepk = i.get('attendanceHighGame').get('gamePk')\n",
    "            game_url = f'http://statsapi.mlb.com/api/v1.1/game/{gamepk}/feed/live'\n",
    "            game_response = requests.get(game_url).json()\n",
    "            game_type = game_response.get('gameData').get('game').get('type')\n",
    "            attendance = game_response.get('gameData').get('gameInfo').get('attendance')\n",
    "            game_date = game_response.get('gameData').get('datetime').get('officialDate')\n",
    "            away_team = game_response.get('gameData').get('teams').get('away').get('name')\n",
    "            home_team = game_response.get('gameData').get('teams').get('home').get('name')\n",
    "            message = f\"{game_date} {away_team} @ {home_team} - {attendance} attendance\"\n",
    "            with open('attendance.csv', 'a') as csvfile:\n",
    "                attendance_writer = csv.writer(csvfile)\n",
    "                attendance_writer.writerow([game_date, away_team, home_team, attendance, game_type])\n",
    "        except:\n",
    "            pass\n",
    "    print(f\"{the_game_date} attendance complete\")\n",
    "        \n"
   ]
  },
  {
   "cell_type": "markdown",
   "metadata": {},
   "source": [
    "## Read in the attendance CSV to a data frame so you can do statistics on it"
   ]
  },
  {
   "cell_type": "code",
   "execution_count": 250,
   "metadata": {},
   "outputs": [],
   "source": [
    "df = pd.read_csv('attendance.csv')"
   ]
  },
  {
   "cell_type": "markdown",
   "metadata": {},
   "source": [
    "## Create some Filter columns based on data"
   ]
  },
  {
   "cell_type": "code",
   "execution_count": 251,
   "metadata": {},
   "outputs": [],
   "source": [
    "df['DodgerHomeGame'] = df['Home'] == 'Los Angeles Dodgers'\n",
    "df['DodgerAwayGame'] = df['Away'] == 'Los Angeles Dodgers'\n",
    "df['DodgerGame'] = (df['Away'] == 'Los Angeles Dodgers') | (df['Home'] == 'Los Angeles Dodgers')"
   ]
  },
  {
   "cell_type": "markdown",
   "metadata": {},
   "source": [
    "## Get some statistics for Dodgers Home Games"
   ]
  },
  {
   "cell_type": "code",
   "execution_count": 252,
   "metadata": {},
   "outputs": [
    {
     "data": {
      "text/plain": [
       "std      15894.560949\n",
       "mean     34625.839506\n",
       "count       81.000000\n",
       "Name: Attendance, dtype: float64"
      ]
     },
     "execution_count": 252,
     "metadata": {},
     "output_type": "execute_result"
    }
   ],
   "source": [
    "dodgers_home_games_attendance = df[df['DodgerHomeGame']==True]['Attendance']\n",
    "dodgers_home_games_attendance.agg(['std', 'mean', 'count'])"
   ]
  },
  {
   "cell_type": "markdown",
   "metadata": {},
   "source": [
    "## Get some statistics for Non-Dodgers Games"
   ]
  },
  {
   "cell_type": "code",
   "execution_count": 253,
   "metadata": {},
   "outputs": [
    {
     "data": {
      "text/plain": [
       "std      10122.776283\n",
       "mean     18122.411951\n",
       "count     2209.000000\n",
       "Name: Attendance, dtype: float64"
      ]
     },
     "execution_count": 253,
     "metadata": {},
     "output_type": "execute_result"
    }
   ],
   "source": [
    "non_dodgers_games_attendance = df[df['DodgerGame']==False]['Attendance']\n",
    "non_dodgers_games_attendance.agg(['std', 'mean', 'count'])"
   ]
  },
  {
   "cell_type": "markdown",
   "metadata": {},
   "source": [
    "## Get some statistics for Dodgers Away Games\n",
    "\n",
    "There are only 80 Away games. There seems to be an issue with getting a Double header that was played between Chicago Cubs and LA Dodgers at Chicago on May 4, 2021"
   ]
  },
  {
   "cell_type": "code",
   "execution_count": 254,
   "metadata": {},
   "outputs": [
    {
     "data": {
      "text/plain": [
       "std      12127.878185\n",
       "mean     25349.187500\n",
       "count       80.000000\n",
       "Name: Attendance, dtype: float64"
      ]
     },
     "execution_count": 254,
     "metadata": {},
     "output_type": "execute_result"
    }
   ],
   "source": [
    "dodgers_away_game_attendance = df[df['DodgerAwayGame']==True]['Attendance']\n",
    "df[df['DodgerAwayGame']==True]['Attendance'].agg(['std', 'mean', 'count'])"
   ]
  },
  {
   "cell_type": "code",
   "execution_count": 255,
   "metadata": {},
   "outputs": [],
   "source": [
    "tstat, pvalue = ttest_ind(dodgers_away_game_attendance, non_dodgers_games_attendance, equal_var=False)"
   ]
  },
  {
   "cell_type": "code",
   "execution_count": 256,
   "metadata": {},
   "outputs": [
    {
     "data": {
      "text/plain": [
       "(5.263734785156167, 1.0861695626801569e-06)"
      ]
     },
     "execution_count": 256,
     "metadata": {},
     "output_type": "execute_result"
    }
   ],
   "source": [
    "tstat, pvalue"
   ]
  },
  {
   "cell_type": "code",
   "execution_count": 257,
   "metadata": {},
   "outputs": [],
   "source": [
    "df['PirateHomeGame'] = df['Home'] == 'Pittsburgh Pirates'\n",
    "df['PirateAwayGame'] = df['Away'] == 'Pittsburgh Pirates'\n",
    "df['PirateGame'] = (df['Away'] == 'Pittsburgh Pirates') | (df['Home'] == 'Pittsburgh Pirates')"
   ]
  },
  {
   "cell_type": "code",
   "execution_count": 258,
   "metadata": {},
   "outputs": [
    {
     "data": {
      "text/plain": [
       "std       5522.559070\n",
       "mean     10597.822785\n",
       "count       79.000000\n",
       "Name: Attendance, dtype: float64"
      ]
     },
     "execution_count": 258,
     "metadata": {},
     "output_type": "execute_result"
    }
   ],
   "source": [
    "pirates_home_games_attendance = df[df['PirateHomeGame']==True]['Attendance']\n",
    "pirates_home_games_attendance.agg(['std', 'mean', 'count'])"
   ]
  },
  {
   "cell_type": "code",
   "execution_count": 259,
   "metadata": {},
   "outputs": [
    {
     "data": {
      "text/plain": [
       "std      10952.399185\n",
       "mean     19158.052893\n",
       "count     2212.000000\n",
       "Name: Attendance, dtype: float64"
      ]
     },
     "execution_count": 259,
     "metadata": {},
     "output_type": "execute_result"
    }
   ],
   "source": [
    "non_pirates_games_attendance = df[df['PirateGame']==False]['Attendance']\n",
    "non_pirates_games_attendance.agg(['std', 'mean', 'count'])"
   ]
  },
  {
   "cell_type": "code",
   "execution_count": 260,
   "metadata": {},
   "outputs": [
    {
     "data": {
      "text/plain": [
       "std      10905.138068\n",
       "mean     20888.544304\n",
       "count       79.000000\n",
       "Name: Attendance, dtype: float64"
      ]
     },
     "execution_count": 260,
     "metadata": {},
     "output_type": "execute_result"
    }
   ],
   "source": [
    "pirates_away_game_attendance = df[df['PirateAwayGame']==True]['Attendance']\n",
    "df[df['PirateAwayGame']==True]['Attendance'].agg(['std', 'mean', 'count'])"
   ]
  },
  {
   "cell_type": "code",
   "execution_count": 261,
   "metadata": {},
   "outputs": [],
   "source": [
    "pirate_tstat, pirate_pvalue = ttest_ind(pirates_away_game_attendance, non_pirates_games_attendance, equal_var=False)"
   ]
  },
  {
   "cell_type": "code",
   "execution_count": 262,
   "metadata": {},
   "outputs": [
    {
     "data": {
      "text/plain": [
       "(1.3856923163276749, 0.1695213562480913)"
      ]
     },
     "execution_count": 262,
     "metadata": {},
     "output_type": "execute_result"
    }
   ],
   "source": [
    "pirate_tstat, pirate_pvalue"
   ]
  },
  {
   "cell_type": "code",
   "execution_count": null,
   "metadata": {},
   "outputs": [],
   "source": []
  }
 ],
 "metadata": {
  "interpreter": {
   "hash": "fe588243ce836f77cba0987af39759560e0cbefeac38e74e1c0a99f3d49b66e2"
  },
  "kernelspec": {
   "display_name": "Python 3.10.2 ('venv': venv)",
   "language": "python",
   "name": "python3"
  },
  "language_info": {
   "codemirror_mode": {
    "name": "ipython",
    "version": 3
   },
   "file_extension": ".py",
   "mimetype": "text/x-python",
   "name": "python",
   "nbconvert_exporter": "python",
   "pygments_lexer": "ipython3",
   "version": "3.10.2"
  },
  "orig_nbformat": 4
 },
 "nbformat": 4,
 "nbformat_minor": 2
}
