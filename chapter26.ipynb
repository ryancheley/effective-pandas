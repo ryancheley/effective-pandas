{
 "cells": [
  {
   "cell_type": "code",
   "execution_count": 8,
   "metadata": {},
   "outputs": [],
   "source": [
    "import pandas as pd\n",
    "import numpy as np"
   ]
  },
  {
   "cell_type": "code",
   "execution_count": 9,
   "metadata": {},
   "outputs": [],
   "source": [
    "df = pd.read_csv('attendance.csv')"
   ]
  },
  {
   "cell_type": "markdown",
   "metadata": {},
   "source": [
    "### Question 1: Create dummy columns derived from a string column"
   ]
  },
  {
   "cell_type": "code",
   "execution_count": 10,
   "metadata": {},
   "outputs": [],
   "source": [
    "df_home_dummies = pd.get_dummies(df['Home'])"
   ]
  },
  {
   "cell_type": "code",
   "execution_count": 11,
   "metadata": {},
   "outputs": [
    {
     "data": {
      "text/plain": [
       "Index(['Arizona Diamondbacks', 'Atlanta Braves', 'Baltimore Orioles',\n",
       "       'Boston Red Sox', 'Chicago Cubs', 'Chicago White Sox',\n",
       "       'Cincinnati Reds', 'Cleveland Indians', 'Colorado Rockies',\n",
       "       'Detroit Tigers', 'Houston Astros', 'Kansas City Royals',\n",
       "       'Los Angeles Angels', 'Los Angeles Dodgers', 'Miami Marlins',\n",
       "       'Milwaukee Brewers', 'Minnesota Twins', 'New York Mets',\n",
       "       'New York Yankees', 'Oakland Athletics', 'Philadelphia Phillies',\n",
       "       'Pittsburgh Pirates', 'San Diego Padres', 'San Francisco Giants',\n",
       "       'Seattle Mariners', 'St. Louis Cardinals', 'Tampa Bay Rays',\n",
       "       'Texas Rangers', 'Toronto Blue Jays', 'Washington Nationals'],\n",
       "      dtype='object')"
      ]
     },
     "execution_count": 11,
     "metadata": {},
     "output_type": "execute_result"
    }
   ],
   "source": [
    "df_home_dummies.columns"
   ]
  },
  {
   "cell_type": "markdown",
   "metadata": {},
   "source": [
    "### Question 2: Undo the dummy columns"
   ]
  },
  {
   "cell_type": "code",
   "execution_count": 12,
   "metadata": {},
   "outputs": [],
   "source": [
    "i, j = np.where(df_home_dummies)"
   ]
  },
  {
   "cell_type": "code",
   "execution_count": 13,
   "metadata": {},
   "outputs": [],
   "source": [
    "df_home_data = pd.Series(df_home_dummies.columns[j],i)"
   ]
  },
  {
   "cell_type": "code",
   "execution_count": 14,
   "metadata": {},
   "outputs": [
    {
     "data": {
      "text/plain": [
       "True"
      ]
     },
     "execution_count": 14,
     "metadata": {},
     "output_type": "execute_result"
    }
   ],
   "source": [
    "# The code below checks to make sure that the undoing of the dummy variables is correct\n",
    "df['Home'].equals(df_home_data)"
   ]
  },
  {
   "cell_type": "code",
   "execution_count": null,
   "metadata": {},
   "outputs": [],
   "source": []
  }
 ],
 "metadata": {
  "kernelspec": {
   "display_name": "Python 3.10.2 ('venv': venv)",
   "language": "python",
   "name": "python3"
  },
  "language_info": {
   "codemirror_mode": {
    "name": "ipython",
    "version": 3
   },
   "file_extension": ".py",
   "mimetype": "text/x-python",
   "name": "python",
   "nbconvert_exporter": "python",
   "pygments_lexer": "ipython3",
   "version": "3.10.2"
  },
  "orig_nbformat": 4,
  "vscode": {
   "interpreter": {
    "hash": "fe588243ce836f77cba0987af39759560e0cbefeac38e74e1c0a99f3d49b66e2"
   }
  }
 },
 "nbformat": 4,
 "nbformat_minor": 2
}
