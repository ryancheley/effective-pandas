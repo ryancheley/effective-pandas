{
 "cells": [
  {
   "cell_type": "markdown",
   "metadata": {},
   "source": [
    "# Chapter 11: String Manipulation"
   ]
  },
  {
   "cell_type": "code",
   "execution_count": 1,
   "metadata": {},
   "outputs": [],
   "source": [
    "import pandas as pd"
   ]
  },
  {
   "cell_type": "markdown",
   "metadata": {},
   "source": [
    "### Question 1: Using a string column, lowercase the values"
   ]
  },
  {
   "cell_type": "code",
   "execution_count": 2,
   "metadata": {},
   "outputs": [],
   "source": [
    "df = pd.read_csv('attendance.csv', parse_dates=['Date'])"
   ]
  },
  {
   "cell_type": "code",
   "execution_count": 3,
   "metadata": {},
   "outputs": [
    {
     "data": {
      "text/plain": [
       "0           oakland athletics\n",
       "1            san diego padres\n",
       "2            seattle mariners\n",
       "3       philadelphia phillies\n",
       "4               miami marlins\n",
       "                ...          \n",
       "2365     arizona diamondbacks\n",
       "2366           houston astros\n",
       "2367       kansas city royals\n",
       "2368      los angeles dodgers\n",
       "2369     washington nationals\n",
       "Name: Home, Length: 2370, dtype: object"
      ]
     },
     "execution_count": 3,
     "metadata": {},
     "output_type": "execute_result"
    }
   ],
   "source": [
    "df.Home.str.lower()"
   ]
  },
  {
   "cell_type": "markdown",
   "metadata": {},
   "source": [
    "### Question 2: Using a string column, slice out the first character"
   ]
  },
  {
   "cell_type": "code",
   "execution_count": 4,
   "metadata": {},
   "outputs": [
    {
     "data": {
      "text/plain": [
       "0       O\n",
       "1       S\n",
       "2       S\n",
       "3       P\n",
       "4       M\n",
       "       ..\n",
       "2365    A\n",
       "2366    H\n",
       "2367    K\n",
       "2368    L\n",
       "2369    W\n",
       "Name: Home, Length: 2370, dtype: object"
      ]
     },
     "execution_count": 4,
     "metadata": {},
     "output_type": "execute_result"
    }
   ],
   "source": [
    "df.Home.str[0]"
   ]
  },
  {
   "cell_type": "markdown",
   "metadata": {},
   "source": [
    "### Question 3: Using a string column, slice out the last three characters"
   ]
  },
  {
   "cell_type": "code",
   "execution_count": 5,
   "metadata": {},
   "outputs": [
    {
     "data": {
      "text/plain": [
       "0       ics\n",
       "1       res\n",
       "2       ers\n",
       "3       ies\n",
       "4       ins\n",
       "       ... \n",
       "2365    cks\n",
       "2366    ros\n",
       "2367    als\n",
       "2368    ers\n",
       "2369    als\n",
       "Name: Home, Length: 2370, dtype: object"
      ]
     },
     "execution_count": 5,
     "metadata": {},
     "output_type": "execute_result"
    }
   ],
   "source": [
    "df.Home.str[-3:]"
   ]
  },
  {
   "cell_type": "markdown",
   "metadata": {},
   "source": [
    "### Question 4: Using a string column, create a series extracting the numeric values"
   ]
  },
  {
   "cell_type": "code",
   "execution_count": 11,
   "metadata": {},
   "outputs": [
    {
     "data": {
      "text/plain": [
       "0       2021-04-01\n",
       "1       2021-04-01\n",
       "2       2021-04-01\n",
       "3       2021-04-01\n",
       "4       2021-04-01\n",
       "           ...    \n",
       "2365    2021-10-03\n",
       "2366    2021-10-03\n",
       "2367    2021-10-03\n",
       "2368    2021-10-03\n",
       "2369    2021-10-03\n",
       "Name: Date, Length: 2370, dtype: object"
      ]
     },
     "execution_count": 11,
     "metadata": {},
     "output_type": "execute_result"
    }
   ],
   "source": [
    "df['Date'].astype(str)"
   ]
  },
  {
   "cell_type": "markdown",
   "metadata": {},
   "source": [
    "### Question 5: Using a string column, create a series extracting the non-ASCII values"
   ]
  },
  {
   "cell_type": "markdown",
   "metadata": {},
   "source": [
    "### Question 6: Using a string column, create a dataframe with the dummy columns for every character in the column\n"
   ]
  }
 ],
 "metadata": {
  "kernelspec": {
   "display_name": "Python 3.10.2 ('venv': venv)",
   "language": "python",
   "name": "python3"
  },
  "language_info": {
   "codemirror_mode": {
    "name": "ipython",
    "version": 3
   },
   "file_extension": ".py",
   "mimetype": "text/x-python",
   "name": "python",
   "nbconvert_exporter": "python",
   "pygments_lexer": "ipython3",
   "version": "3.10.2"
  },
  "orig_nbformat": 4,
  "vscode": {
   "interpreter": {
    "hash": "fe588243ce836f77cba0987af39759560e0cbefeac38e74e1c0a99f3d49b66e2"
   }
  }
 },
 "nbformat": 4,
 "nbformat_minor": 2
}
