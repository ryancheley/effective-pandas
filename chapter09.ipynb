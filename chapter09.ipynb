{
 "cells": [
  {
   "cell_type": "code",
   "execution_count": 108,
   "metadata": {},
   "outputs": [],
   "source": [
    "import pandas as pd\n",
    "import numpy as np"
   ]
  },
  {
   "cell_type": "markdown",
   "metadata": {},
   "source": [
    "# Questions\n",
    "\n",
    "1. Create a series from a numeric column that has the value of 'high' if it is equal to or above the mean and 'low' if it is below the mean using .apply. \n",
    "2. Create a series from a numeric column that has the value of 'high' if it is equal to or above the mean and 'low' if it is below the mean using np.select. \n",
    "3. Time the differences between the previous two solutions to see which is faster. \n",
    "4. Replace the missing values of a numeric series with the median value. \n",
    "5. Clip the values of a numeric series to between to 10th and 90th percentiles.\n",
    "6. Using a categorical column, replace any value that is not in the top 5 most frequent values with 'Other'.\n",
    "7. Using a categorical column, replace any value that is not in the top 10 most frequent values with 'Other'.\n",
    "8. Make a function that takes a categorical series and a number (n) and returns a replace series that replaces any value that is not in the top n most frequent values with 'Other'.\n",
    "9. Using a numeric column, bin it into 10 groups that have the same width.\n",
    "10. Using a numeric column, bin it into 10 groups that have equal sized bins."
   ]
  },
  {
   "cell_type": "code",
   "execution_count": 109,
   "metadata": {},
   "outputs": [
    {
     "name": "stderr",
     "output_type": "stream",
     "text": [
      "/var/folders/y4/5ln126497x945_nd7488z4pc0000gn/T/ipykernel_43983/1449633311.py:1: DtypeWarning: Columns (68,70,71,72,73,74,76,79) have mixed types. Specify dtype option on import or set low_memory=False.\n",
      "  vehicles = pd.read_csv('vehicles.csv')\n"
     ]
    }
   ],
   "source": [
    "vehicles = pd.read_csv('vehicles.csv')"
   ]
  },
  {
   "cell_type": "code",
   "execution_count": 110,
   "metadata": {},
   "outputs": [],
   "source": [
    "city_mpg = vehicles.city08"
   ]
  },
  {
   "cell_type": "markdown",
   "metadata": {},
   "source": [
    "### Question 1: Create a series from a numeric column that has the value of 'high' if it is equal to or above the mean and 'low' if it is below the mean using `.apply`"
   ]
  },
  {
   "cell_type": "markdown",
   "metadata": {},
   "source": [
    "#### Create the Function"
   ]
  },
  {
   "cell_type": "code",
   "execution_count": 111,
   "metadata": {},
   "outputs": [],
   "source": [
    "def high_low(val):\n",
    "    if val >= vehicles.city08.mean():\n",
    "        return 'high'\n",
    "    else:\n",
    "        return 'low'\n"
   ]
  },
  {
   "cell_type": "markdown",
   "metadata": {},
   "source": [
    "#### Write some tests\n",
    "There are three tests here:\n",
    "1. Check when the value is above the mean\n",
    "2. Check when the value is equal to the mean\n",
    "3. Check when the value is below the mean"
   ]
  },
  {
   "cell_type": "code",
   "execution_count": 112,
   "metadata": {},
   "outputs": [],
   "source": [
    "def test_high_low_high_value_above_mean():\n",
    "    city08_mean = vehicles.city08.mean()\n",
    "    test_value = city08_mean + 1\n",
    "    assert high_low(test_value) == 'high'\n",
    "test_high_low_high_value_above_mean()"
   ]
  },
  {
   "cell_type": "code",
   "execution_count": 113,
   "metadata": {},
   "outputs": [],
   "source": [
    "def test_high_low_high_value_equal_mean():\n",
    "    city08_mean = vehicles.city08.mean()\n",
    "    test_value = city08_mean\n",
    "    assert high_low(test_value) == 'high'\n",
    "test_high_low_high_value_equal_mean()"
   ]
  },
  {
   "cell_type": "code",
   "execution_count": 114,
   "metadata": {},
   "outputs": [],
   "source": [
    "def test_high_low_low_value_below_mean():\n",
    "    city08_mean = vehicles.city08.mean()\n",
    "    test_value = city08_mean - 1\n",
    "    assert high_low(test_value) == 'low'\n",
    "test_high_low_low_value_below_mean()"
   ]
  },
  {
   "cell_type": "code",
   "execution_count": 115,
   "metadata": {},
   "outputs": [
    {
     "data": {
      "text/plain": [
       "0        high\n",
       "1         low\n",
       "2        high\n",
       "3         low\n",
       "4         low\n",
       "         ... \n",
       "41139    high\n",
       "41140    high\n",
       "41141     low\n",
       "41142     low\n",
       "41143     low\n",
       "Name: city08, Length: 41144, dtype: object"
      ]
     },
     "execution_count": 115,
     "metadata": {},
     "output_type": "execute_result"
    }
   ],
   "source": [
    "city_mpg.apply(high_low)"
   ]
  },
  {
   "cell_type": "markdown",
   "metadata": {},
   "source": [
    "### Question 2: Create a series from a numeric column that has the value of 'high' if it is equal to or above the mean and 'low' if it is below the mean using `np.select`\n",
    "\n",
    "In working on this exercise, I was a bit confused by the example given in Section 9.2. Matt compressed too much of what was going on for the `np.select` which made it difficult for me to understand. \n",
    "\n",
    "Once I got to the [numpy documentation](https://numpy.org/doc/stable/reference/generated/numpy.select.html) it was a bit more clear. This is why I have written the answer below the way I did ... to hopefully provide a bit more clarity for myself in the future"
   ]
  },
  {
   "cell_type": "code",
   "execution_count": 116,
   "metadata": {},
   "outputs": [
    {
     "data": {
      "text/plain": [
       "0        high\n",
       "1         low\n",
       "2        high\n",
       "3         low\n",
       "4         low\n",
       "         ... \n",
       "41139    high\n",
       "41140    high\n",
       "41141     low\n",
       "41142     low\n",
       "41143     low\n",
       "Length: 41144, dtype: object"
      ]
     },
     "execution_count": 116,
     "metadata": {},
     "output_type": "execute_result"
    }
   ],
   "source": [
    "condition_list = [city_mpg>=city_mpg.mean()]\n",
    "choice_list = ['high']\n",
    "default_value = 'low'\n",
    "pd.Series(np.select(condition_list, choice_list, default_value))"
   ]
  },
  {
   "cell_type": "markdown",
   "metadata": {},
   "source": [
    "### Question 3: Time the differences between the previous two solutions to see which is faster. "
   ]
  },
  {
   "cell_type": "code",
   "execution_count": 117,
   "metadata": {},
   "outputs": [
    {
     "name": "stdout",
     "output_type": "stream",
     "text": [
      "3.63 s ± 118 ms per loop (mean ± std. dev. of 7 runs, 1 loop each)\n"
     ]
    }
   ],
   "source": [
    "%%timeit\n",
    "city_mpg.apply(high_low)"
   ]
  },
  {
   "cell_type": "code",
   "execution_count": 118,
   "metadata": {},
   "outputs": [
    {
     "name": "stdout",
     "output_type": "stream",
     "text": [
      "3.17 ms ± 496 µs per loop (mean ± std. dev. of 7 runs, 100 loops each)\n"
     ]
    }
   ],
   "source": [
    "%%timeit\n",
    "pd.Series(np.select(condition_list, choice_list, default_value))"
   ]
  },
  {
   "cell_type": "markdown",
   "metadata": {},
   "source": [
    "### Answer 3\n",
    "`city_mpg.apply(high_low)` took on average 3.18 seconds to complete\n",
    "\n",
    "`pd.Series(np.select(condition_list, choice_list, default_value))` took on average 2.44 ms to complete\n",
    "\n",
    "This makes the np.select more than **1000x faster**"
   ]
  },
  {
   "cell_type": "markdown",
   "metadata": {},
   "source": [
    "### Question 4: Replace the missing values of a numeric series with the median value. "
   ]
  },
  {
   "cell_type": "code",
   "execution_count": 60,
   "metadata": {},
   "outputs": [
    {
     "data": {
      "text/plain": [
       "7136    3.3\n",
       "7137    3.3\n",
       "7138    NaN\n",
       "7139    NaN\n",
       "7140    3.0\n",
       "7141    3.2\n",
       "7142    1.8\n",
       "Name: displ, dtype: float64"
      ]
     },
     "execution_count": 60,
     "metadata": {},
     "output_type": "execute_result"
    }
   ],
   "source": [
    "displ = vehicles.displ\n",
    "missing = displ.isna()\n",
    "displ_median = displ.median()\n",
    "displ.loc[7136:7142]"
   ]
  },
  {
   "cell_type": "code",
   "execution_count": 59,
   "metadata": {},
   "outputs": [
    {
     "data": {
      "text/plain": [
       "7136    3.3\n",
       "7137    3.3\n",
       "7138    3.0\n",
       "7139    3.0\n",
       "7140    3.0\n",
       "7141    3.2\n",
       "7142    1.8\n",
       "Name: displ, dtype: float64"
      ]
     },
     "execution_count": 59,
     "metadata": {},
     "output_type": "execute_result"
    }
   ],
   "source": [
    "displ.fillna(displ_median).loc[7136:7142]"
   ]
  },
  {
   "cell_type": "markdown",
   "metadata": {},
   "source": [
    "### Question 5: Clip the values of a numeric series to between to 10th and 90th percentiles."
   ]
  },
  {
   "cell_type": "code",
   "execution_count": 65,
   "metadata": {},
   "outputs": [
    {
     "data": {
      "text/plain": [
       "(1.8, 5.3)"
      ]
     },
     "execution_count": 65,
     "metadata": {},
     "output_type": "execute_result"
    }
   ],
   "source": [
    "lower_bound = displ.quantile(.1)\n",
    "upper_bound = displ.quantile(.9)\n",
    "lower_bound, upper_bound"
   ]
  },
  {
   "cell_type": "markdown",
   "metadata": {},
   "source": [
    "Examples of clipping on upper bound"
   ]
  },
  {
   "cell_type": "code",
   "execution_count": 68,
   "metadata": {},
   "outputs": [
    {
     "data": {
      "text/plain": [
       "46    3.0\n",
       "47    5.3\n",
       "Name: displ, dtype: float64"
      ]
     },
     "execution_count": 68,
     "metadata": {},
     "output_type": "execute_result"
    }
   ],
   "source": [
    "displ.loc[46:47].clip(lower_bound, upper_bound)"
   ]
  },
  {
   "cell_type": "code",
   "execution_count": 69,
   "metadata": {},
   "outputs": [
    {
     "data": {
      "text/plain": [
       "46    3.0\n",
       "47    5.9\n",
       "Name: displ, dtype: float64"
      ]
     },
     "execution_count": 69,
     "metadata": {},
     "output_type": "execute_result"
    }
   ],
   "source": [
    "displ.loc[46:47]"
   ]
  },
  {
   "cell_type": "markdown",
   "metadata": {},
   "source": [
    "Examples of clipping on lower bound"
   ]
  },
  {
   "cell_type": "code",
   "execution_count": 73,
   "metadata": {},
   "outputs": [
    {
     "data": {
      "text/plain": [
       "5     1.8\n",
       "6     1.8\n",
       "7     1.8\n",
       "8     1.8\n",
       "9     1.8\n",
       "10    1.8\n",
       "11    2.0\n",
       "12    2.0\n",
       "Name: displ, dtype: float64"
      ]
     },
     "execution_count": 73,
     "metadata": {},
     "output_type": "execute_result"
    }
   ],
   "source": [
    "displ.loc[5:12].clip(lower_bound, upper_bound)"
   ]
  },
  {
   "cell_type": "code",
   "execution_count": 72,
   "metadata": {},
   "outputs": [
    {
     "data": {
      "text/plain": [
       "5     1.8\n",
       "6     1.8\n",
       "7     1.6\n",
       "8     1.6\n",
       "9     1.8\n",
       "10    1.8\n",
       "11    2.0\n",
       "12    2.0\n",
       "Name: displ, dtype: float64"
      ]
     },
     "execution_count": 72,
     "metadata": {},
     "output_type": "execute_result"
    }
   ],
   "source": [
    "displ.loc[5:12]"
   ]
  },
  {
   "cell_type": "markdown",
   "metadata": {},
   "source": [
    "### Question 6: Using a categorical column, replace any value that is not in the top 5 most frequent values with 'Other'."
   ]
  },
  {
   "cell_type": "code",
   "execution_count": 86,
   "metadata": {},
   "outputs": [
    {
     "data": {
      "text/plain": [
       "(FFS)                               8827\n",
       "SIDI                                5526\n",
       "(FFS) CA model                       926\n",
       "(FFS)      (MPFI)                    734\n",
       "FFV                                  701\n",
       "                                    ... \n",
       "B308E5 FFS,TURBO                       1\n",
       "5.4E-R FFS MPFI                        1\n",
       "V-6 FFS                                1\n",
       "(GUZZLER)  (FFS)      (S-CHARGE)       1\n",
       "R-ENG (FFS,TRBO)                       1\n",
       "Name: eng_dscr, Length: 557, dtype: int64"
      ]
     },
     "execution_count": 86,
     "metadata": {},
     "output_type": "execute_result"
    }
   ],
   "source": [
    "eng_dscr = vehicles.eng_dscr\n",
    "vc = vehicles.eng_dscr.value_counts()\n",
    "vc"
   ]
  },
  {
   "cell_type": "code",
   "execution_count": 82,
   "metadata": {},
   "outputs": [],
   "source": [
    "top5 = vc.index[:5]\n",
    "top10 = vc.index[:10]\n",
    "def generalize(val):\n",
    "    if val in top5:\n",
    "        return val\n",
    "    else:\n",
    "        return 'Other'"
   ]
  },
  {
   "cell_type": "code",
   "execution_count": 85,
   "metadata": {},
   "outputs": [
    {
     "data": {
      "text/plain": [
       "0        (FFS)\n",
       "1        Other\n",
       "2        (FFS)\n",
       "3        Other\n",
       "4        Other\n",
       "         ...  \n",
       "41139    (FFS)\n",
       "41140    (FFS)\n",
       "41141    (FFS)\n",
       "41142    (FFS)\n",
       "41143    Other\n",
       "Name: eng_dscr, Length: 41144, dtype: object"
      ]
     },
     "execution_count": 85,
     "metadata": {},
     "output_type": "execute_result"
    }
   ],
   "source": [
    "eng_dscr.apply(generalize)"
   ]
  },
  {
   "cell_type": "markdown",
   "metadata": {},
   "source": [
    "### Question 7: Using a categorical column, replace any value that is not in the top 10 most frequent values with 'Other'."
   ]
  },
  {
   "cell_type": "code",
   "execution_count": 87,
   "metadata": {},
   "outputs": [],
   "source": [
    "def generalize10(val):\n",
    "    if val in top10:\n",
    "        return val\n",
    "    else:\n",
    "        return 'Other'"
   ]
  },
  {
   "cell_type": "code",
   "execution_count": 89,
   "metadata": {},
   "outputs": [
    {
     "data": {
      "text/plain": [
       "0             (FFS)\n",
       "1             Other\n",
       "2             (FFS)\n",
       "3             Other\n",
       "4        (FFS,TRBO)\n",
       "            ...    \n",
       "41139         (FFS)\n",
       "41140         (FFS)\n",
       "41141         (FFS)\n",
       "41142         (FFS)\n",
       "41143    (FFS,TRBO)\n",
       "Name: eng_dscr, Length: 41144, dtype: object"
      ]
     },
     "execution_count": 89,
     "metadata": {},
     "output_type": "execute_result"
    }
   ],
   "source": [
    "eng_dscr.apply(generalize10)"
   ]
  },
  {
   "cell_type": "markdown",
   "metadata": {},
   "source": [
    "### Question 8: Make a function that takes a categorical series and a number (n) and returns a replace series that replaces any value that is not in the top n most frequent values with 'Other'."
   ]
  },
  {
   "cell_type": "code",
   "execution_count": 106,
   "metadata": {},
   "outputs": [],
   "source": [
    "def generalize_n(s: pd.Series, n: int) -> pd.Series: \n",
    "    vc = s.value_counts()\n",
    "    top_n = vc.index[:n]\n",
    "    result = s.where(s.isin(top_n), 'Other')\n",
    "    return result"
   ]
  },
  {
   "cell_type": "markdown",
   "metadata": {},
   "source": [
    "Now, we write some tests to ensure that the function does what we expect it to"
   ]
  },
  {
   "cell_type": "code",
   "execution_count": 107,
   "metadata": {},
   "outputs": [],
   "source": [
    "assert (generalize_n(eng_dscr, 5) != eng_dscr.apply(generalize)).sum() == 0\n",
    "assert (generalize_n(eng_dscr, 10) != eng_dscr.apply(generalize10)).sum() == 0"
   ]
  },
  {
   "cell_type": "markdown",
   "metadata": {},
   "source": [
    "### Question 9: Using a numeric column, bin it into 10 groups that have the same width."
   ]
  },
  {
   "cell_type": "code",
   "execution_count": 95,
   "metadata": {},
   "outputs": [
    {
     "data": {
      "text/plain": [
       "0        (1.68, 2.52]\n",
       "1         (4.2, 5.04]\n",
       "2        (1.68, 2.52]\n",
       "3        (5.04, 5.88]\n",
       "4        (1.68, 2.52]\n",
       "             ...     \n",
       "41139    (1.68, 2.52]\n",
       "41140    (1.68, 2.52]\n",
       "41141    (1.68, 2.52]\n",
       "41142    (1.68, 2.52]\n",
       "41143    (1.68, 2.52]\n",
       "Name: displ, Length: 41144, dtype: category\n",
       "Categories (10, interval[float64, right]): [(-0.0084, 0.84] < (0.84, 1.68] < (1.68, 2.52] < (2.52, 3.36] ... (5.04, 5.88] < (5.88, 6.72] < (6.72, 7.56] < (7.56, 8.4]]"
      ]
     },
     "execution_count": 95,
     "metadata": {},
     "output_type": "execute_result"
    }
   ],
   "source": [
    "pd.cut(displ, 10)"
   ]
  },
  {
   "cell_type": "markdown",
   "metadata": {},
   "source": [
    "### Question 10: Using a numeric column, bin it into 10 groups that have equal sized bins."
   ]
  },
  {
   "cell_type": "code",
   "execution_count": 96,
   "metadata": {},
   "outputs": [
    {
     "data": {
      "text/plain": [
       "0        (1.8, 2.0]\n",
       "1        (4.6, 5.3]\n",
       "2        (2.0, 2.4]\n",
       "3        (4.6, 5.3]\n",
       "4        (2.0, 2.4]\n",
       "            ...    \n",
       "41139    (2.0, 2.4]\n",
       "41140    (2.0, 2.4]\n",
       "41141    (2.0, 2.4]\n",
       "41142    (2.0, 2.4]\n",
       "41143    (2.0, 2.4]\n",
       "Name: displ, Length: 41144, dtype: category\n",
       "Categories (10, interval[float64, right]): [(-0.001, 1.8] < (1.8, 2.0] < (2.0, 2.4] < (2.4, 2.5] ... (3.5, 3.9] < (3.9, 4.6] < (4.6, 5.3] < (5.3, 8.4]]"
      ]
     },
     "execution_count": 96,
     "metadata": {},
     "output_type": "execute_result"
    }
   ],
   "source": [
    "pd.qcut(displ, 10)"
   ]
  },
  {
   "cell_type": "code",
   "execution_count": 122,
   "metadata": {},
   "outputs": [],
   "source": [
    "def test_function(my_list)->int:\n",
    "    return my_list[0] + my_list[1]"
   ]
  },
  {
   "cell_type": "code",
   "execution_count": 126,
   "metadata": {},
   "outputs": [
    {
     "ename": "IndexError",
     "evalue": "list index out of range",
     "output_type": "error",
     "traceback": [
      "\u001b[0;31m---------------------------------------------------------------------------\u001b[0m",
      "\u001b[0;31mIndexError\u001b[0m                                Traceback (most recent call last)",
      "\u001b[1;32m/Users/ryan/Documents/testbed/effective_pandas/chapter09.ipynb Cell 46'\u001b[0m in \u001b[0;36m<cell line: 2>\u001b[0;34m()\u001b[0m\n\u001b[1;32m      <a href='vscode-notebook-cell:/Users/ryan/Documents/testbed/effective_pandas/chapter09.ipynb#ch0000055?line=0'>1</a>\u001b[0m my_list \u001b[39m=\u001b[39m [\u001b[39m1\u001b[39m]\n\u001b[0;32m----> <a href='vscode-notebook-cell:/Users/ryan/Documents/testbed/effective_pandas/chapter09.ipynb#ch0000055?line=1'>2</a>\u001b[0m test_function(my_list)\n\u001b[1;32m      <a href='vscode-notebook-cell:/Users/ryan/Documents/testbed/effective_pandas/chapter09.ipynb#ch0000055?line=2'>3</a>\u001b[0m \u001b[39massert\u001b[39;00m \u001b[39msum\u001b[39m(my_list) \u001b[39m==\u001b[39m test_function(my_list)\n",
      "\u001b[1;32m/Users/ryan/Documents/testbed/effective_pandas/chapter09.ipynb Cell 45'\u001b[0m in \u001b[0;36mtest_function\u001b[0;34m(my_list)\u001b[0m\n\u001b[1;32m      <a href='vscode-notebook-cell:/Users/ryan/Documents/testbed/effective_pandas/chapter09.ipynb#ch0000051?line=0'>1</a>\u001b[0m \u001b[39mdef\u001b[39;00m \u001b[39mtest_function\u001b[39m(my_list)\u001b[39m-\u001b[39m\u001b[39m>\u001b[39m\u001b[39mint\u001b[39m:\n\u001b[0;32m----> <a href='vscode-notebook-cell:/Users/ryan/Documents/testbed/effective_pandas/chapter09.ipynb#ch0000051?line=1'>2</a>\u001b[0m     \u001b[39mreturn\u001b[39;00m my_list[\u001b[39m0\u001b[39m] \u001b[39m+\u001b[39m my_list[\u001b[39m1\u001b[39;49m]\n",
      "\u001b[0;31mIndexError\u001b[0m: list index out of range"
     ]
    }
   ],
   "source": [
    "my_list = [1]\n",
    "test_function(my_list)\n",
    "assert sum(my_list) == test_function(my_list)"
   ]
  },
  {
   "cell_type": "code",
   "execution_count": null,
   "metadata": {},
   "outputs": [],
   "source": []
  }
 ],
 "metadata": {
  "interpreter": {
   "hash": "fe588243ce836f77cba0987af39759560e0cbefeac38e74e1c0a99f3d49b66e2"
  },
  "kernelspec": {
   "display_name": "Python 3.10.2 ('venv': venv)",
   "language": "python",
   "name": "python3"
  },
  "language_info": {
   "codemirror_mode": {
    "name": "ipython",
    "version": 3
   },
   "file_extension": ".py",
   "mimetype": "text/x-python",
   "name": "python",
   "nbconvert_exporter": "python",
   "pygments_lexer": "ipython3",
   "version": "3.10.2"
  },
  "orig_nbformat": 4
 },
 "nbformat": 4,
 "nbformat_minor": 2
}
